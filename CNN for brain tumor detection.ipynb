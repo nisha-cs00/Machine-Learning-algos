{
 "cells": [
  {
   "cell_type": "code",
   "execution_count": 8,
   "id": "64d6dbe3",
   "metadata": {},
   "outputs": [],
   "source": [
    "import numpy as np # linear algebra\n",
    "import pandas as pd # data processing, CSV file I/O (e.g. pd.read_csv)\n",
    "import os\n"
   ]
  },
  {
   "cell_type": "code",
   "execution_count": 18,
   "id": "b933d981",
   "metadata": {},
   "outputs": [],
   "source": [
    "import pandas as pd\n",
    "import numpy as np\n",
    "import os\n",
    "\n",
    "import tensorflow as tf\n",
    "\n",
    "from tensorflow import keras\n",
    "from tensorflow.keras import layers, Input\n",
    "from keras.layers import InputLayer, MaxPooling2D, Flatten, Dense, Conv2D, Dropout\n",
    "from keras.losses import BinaryCrossentropy\n",
    "from tensorflow.keras.models import Sequential, Model\n",
    "from tensorflow.keras.preprocessing import image\n",
    "from tensorflow.keras.applications.resnet50 import preprocess_input, decode_predictions, ResNet50\n",
    "from tensorflow.keras.optimizers import Adam, SGD\n",
    "from sklearn.utils import shuffle\n",
    "from sklearn.model_selection import train_test_split\n",
    "from PIL.Image import open\n",
    "\n",
    "from  matplotlib import pyplot as plt\n",
    "import matplotlib.image as mpimg\n",
    "import random\n",
    "%matplotlib inline\n",
    "IMAGE_DATASET = \"C:/Users/Nisha/Desktop/Brain tumour detection project/archive (5)/Brain Tumor\"\n",
    "IMAGE_DATASET_RAW = r\"C:\\Users\\Nisha\\Desktop\\Brain tumour detection project\\archive (5)\\Brain Tumor\"\n",
    "\n",
    "\n",
    "IMG_HEIGHT = 224\n",
    "IMG_WIDTH = 224\n",
    "EPOCHS = 50\n",
    "\n",
    "\n",
    "file=os.listdir(IMAGE_DATASET)"
   ]
  },
  {
   "cell_type": "code",
   "execution_count": 19,
   "id": "bead11c9",
   "metadata": {},
   "outputs": [
    {
     "name": "stdout",
     "output_type": "stream",
     "text": [
      "172800\n"
     ]
    },
    {
     "data": {
      "text/plain": [
       "<Figure size 1440x1440 with 0 Axes>"
      ]
     },
     "metadata": {},
     "output_type": "display_data"
    }
   ],
   "source": [
    "plt.figure(figsize=(20,20))\n",
    "test_folder=\"C:/Users/Nisha/Desktop/Brain tumour detection project/archive (5)/Brain Tumor/Image3202.jpg\" \n",
    "img=mpimg.imread(test_folder)\n",
    "print(img.size)"
   ]
  },
  {
   "cell_type": "code",
   "execution_count": 20,
   "id": "54a024bf",
   "metadata": {},
   "outputs": [
    {
     "data": {
      "text/html": [
       "<div>\n",
       "<style scoped>\n",
       "    .dataframe tbody tr th:only-of-type {\n",
       "        vertical-align: middle;\n",
       "    }\n",
       "\n",
       "    .dataframe tbody tr th {\n",
       "        vertical-align: top;\n",
       "    }\n",
       "\n",
       "    .dataframe thead th {\n",
       "        text-align: right;\n",
       "    }\n",
       "</style>\n",
       "<table border=\"1\" class=\"dataframe\">\n",
       "  <thead>\n",
       "    <tr style=\"text-align: right;\">\n",
       "      <th></th>\n",
       "      <th>Image</th>\n",
       "      <th>Class</th>\n",
       "      <th>Mean</th>\n",
       "      <th>Variance</th>\n",
       "      <th>Standard Deviation</th>\n",
       "      <th>Entropy</th>\n",
       "      <th>Skewness</th>\n",
       "      <th>Kurtosis</th>\n",
       "      <th>Contrast</th>\n",
       "      <th>Energy</th>\n",
       "      <th>ASM</th>\n",
       "      <th>Homogeneity</th>\n",
       "      <th>Dissimilarity</th>\n",
       "      <th>Correlation</th>\n",
       "      <th>Coarseness</th>\n",
       "    </tr>\n",
       "  </thead>\n",
       "  <tbody>\n",
       "    <tr>\n",
       "      <th>0</th>\n",
       "      <td>Image1</td>\n",
       "      <td>0</td>\n",
       "      <td>6.535339</td>\n",
       "      <td>619.587845</td>\n",
       "      <td>24.891522</td>\n",
       "      <td>0.109059</td>\n",
       "      <td>4.276477</td>\n",
       "      <td>18.900575</td>\n",
       "      <td>98.613971</td>\n",
       "      <td>0.293314</td>\n",
       "      <td>0.086033</td>\n",
       "      <td>0.530941</td>\n",
       "      <td>4.473346</td>\n",
       "      <td>0.981939</td>\n",
       "      <td>7.458341e-155</td>\n",
       "    </tr>\n",
       "    <tr>\n",
       "      <th>1</th>\n",
       "      <td>Image2</td>\n",
       "      <td>0</td>\n",
       "      <td>8.749969</td>\n",
       "      <td>805.957634</td>\n",
       "      <td>28.389393</td>\n",
       "      <td>0.266538</td>\n",
       "      <td>3.718116</td>\n",
       "      <td>14.464618</td>\n",
       "      <td>63.858816</td>\n",
       "      <td>0.475051</td>\n",
       "      <td>0.225674</td>\n",
       "      <td>0.651352</td>\n",
       "      <td>3.220072</td>\n",
       "      <td>0.988834</td>\n",
       "      <td>7.458341e-155</td>\n",
       "    </tr>\n",
       "    <tr>\n",
       "      <th>2</th>\n",
       "      <td>Image3</td>\n",
       "      <td>1</td>\n",
       "      <td>7.341095</td>\n",
       "      <td>1143.808219</td>\n",
       "      <td>33.820234</td>\n",
       "      <td>0.001467</td>\n",
       "      <td>5.061750</td>\n",
       "      <td>26.479563</td>\n",
       "      <td>81.867206</td>\n",
       "      <td>0.031917</td>\n",
       "      <td>0.001019</td>\n",
       "      <td>0.268275</td>\n",
       "      <td>5.981800</td>\n",
       "      <td>0.978014</td>\n",
       "      <td>7.458341e-155</td>\n",
       "    </tr>\n",
       "    <tr>\n",
       "      <th>3</th>\n",
       "      <td>Image4</td>\n",
       "      <td>1</td>\n",
       "      <td>5.958145</td>\n",
       "      <td>959.711985</td>\n",
       "      <td>30.979219</td>\n",
       "      <td>0.001477</td>\n",
       "      <td>5.677977</td>\n",
       "      <td>33.428845</td>\n",
       "      <td>151.229741</td>\n",
       "      <td>0.032024</td>\n",
       "      <td>0.001026</td>\n",
       "      <td>0.243851</td>\n",
       "      <td>7.700919</td>\n",
       "      <td>0.964189</td>\n",
       "      <td>7.458341e-155</td>\n",
       "    </tr>\n",
       "    <tr>\n",
       "      <th>4</th>\n",
       "      <td>Image5</td>\n",
       "      <td>0</td>\n",
       "      <td>7.315231</td>\n",
       "      <td>729.540579</td>\n",
       "      <td>27.010009</td>\n",
       "      <td>0.146761</td>\n",
       "      <td>4.283221</td>\n",
       "      <td>19.079108</td>\n",
       "      <td>174.988756</td>\n",
       "      <td>0.343849</td>\n",
       "      <td>0.118232</td>\n",
       "      <td>0.501140</td>\n",
       "      <td>6.834689</td>\n",
       "      <td>0.972789</td>\n",
       "      <td>7.458341e-155</td>\n",
       "    </tr>\n",
       "  </tbody>\n",
       "</table>\n",
       "</div>"
      ],
      "text/plain": [
       "    Image  Class      Mean     Variance  Standard Deviation   Entropy  \\\n",
       "0  Image1      0  6.535339   619.587845           24.891522  0.109059   \n",
       "1  Image2      0  8.749969   805.957634           28.389393  0.266538   \n",
       "2  Image3      1  7.341095  1143.808219           33.820234  0.001467   \n",
       "3  Image4      1  5.958145   959.711985           30.979219  0.001477   \n",
       "4  Image5      0  7.315231   729.540579           27.010009  0.146761   \n",
       "\n",
       "   Skewness   Kurtosis    Contrast    Energy       ASM  Homogeneity  \\\n",
       "0  4.276477  18.900575   98.613971  0.293314  0.086033     0.530941   \n",
       "1  3.718116  14.464618   63.858816  0.475051  0.225674     0.651352   \n",
       "2  5.061750  26.479563   81.867206  0.031917  0.001019     0.268275   \n",
       "3  5.677977  33.428845  151.229741  0.032024  0.001026     0.243851   \n",
       "4  4.283221  19.079108  174.988756  0.343849  0.118232     0.501140   \n",
       "\n",
       "   Dissimilarity  Correlation     Coarseness  \n",
       "0       4.473346     0.981939  7.458341e-155  \n",
       "1       3.220072     0.988834  7.458341e-155  \n",
       "2       5.981800     0.978014  7.458341e-155  \n",
       "3       7.700919     0.964189  7.458341e-155  \n",
       "4       6.834689     0.972789  7.458341e-155  "
      ]
     },
     "execution_count": 20,
     "metadata": {},
     "output_type": "execute_result"
    }
   ],
   "source": [
    "# We will import the csv file containing the features and the classes of the images\n",
    "\n",
    "cortex_df = pd.read_csv(\"C:/Users/Nisha/Desktop/Brain tumour detection project/archive (5)/Brain Tumor.csv\")\n",
    "cortex_df.head()"
   ]
  },
  {
   "cell_type": "code",
   "execution_count": 21,
   "id": "4ef93f07",
   "metadata": {},
   "outputs": [
    {
     "name": "stdout",
     "output_type": "stream",
     "text": [
      "(3762, 15)\n"
     ]
    }
   ],
   "source": [
    "print(cortex_df.shape)"
   ]
  },
  {
   "cell_type": "code",
   "execution_count": 22,
   "id": "2d3713b5",
   "metadata": {},
   "outputs": [
    {
     "data": {
      "text/plain": [
       "<Figure size 1440x1440 with 0 Axes>"
      ]
     },
     "execution_count": 22,
     "metadata": {},
     "output_type": "execute_result"
    },
    {
     "data": {
      "text/plain": [
       "<Figure size 1440x1440 with 0 Axes>"
      ]
     },
     "metadata": {},
     "output_type": "display_data"
    }
   ],
   "source": [
    "plt.figure(figsize=(20,20))"
   ]
  },
  {
   "cell_type": "code",
   "execution_count": 23,
   "id": "f42f4a84",
   "metadata": {},
   "outputs": [],
   "source": [
    "test_folder=\"C:/Users/Nisha/Desktop/Brain tumour detection project/archive (5)/Brain Tumor\""
   ]
  },
  {
   "cell_type": "code",
   "execution_count": 24,
   "id": "f8c8c21f",
   "metadata": {},
   "outputs": [
    {
     "data": {
      "image/png": "[encoded data removed]",
      "text/plain": [
       "<Figure size 432x288 with 5 Axes>"
      ]
     },
     "metadata": {
      "needs_background": "light"
     },
     "output_type": "display_data"
    }
   ],
   "source": [
    "for i in range(5):\n",
    "    \n",
    "    file = random.choice(os.listdir(test_folder))\n",
    "    \n",
    "    image_path= os.path.join(test_folder, file)\n",
    "    \n",
    "    img=mpimg.imread(image_path)\n",
    "   \n",
    "    ax=plt.subplot(1,5,i+1)\n",
    "     \n",
    "    ax.title.set_text(file)\n",
    "     \n",
    "    plt.imshow(img)"
   ]
  },
  {
   "cell_type": "code",
   "execution_count": 25,
   "id": "35f6e410",
   "metadata": {},
   "outputs": [
    {
     "data": {
      "text/html": [
       "<div>\n",
       "<style scoped>\n",
       "    .dataframe tbody tr th:only-of-type {\n",
       "        vertical-align: middle;\n",
       "    }\n",
       "\n",
       "    .dataframe tbody tr th {\n",
       "        vertical-align: top;\n",
       "    }\n",
       "\n",
       "    .dataframe thead th {\n",
       "        text-align: right;\n",
       "    }\n",
       "</style>\n",
       "<table border=\"1\" class=\"dataframe\">\n",
       "  <thead>\n",
       "    <tr style=\"text-align: right;\">\n",
       "      <th></th>\n",
       "      <th>Image</th>\n",
       "      <th>Class</th>\n",
       "      <th>paths</th>\n",
       "      <th>pixels</th>\n",
       "    </tr>\n",
       "  </thead>\n",
       "  <tbody>\n",
       "    <tr>\n",
       "      <th>0</th>\n",
       "      <td>Image1</td>\n",
       "      <td>0</td>\n",
       "      <td>C:/Users/Nisha/Desktop/Brain tumour detection ...</td>\n",
       "      <td>[[[0, 0, 0], [0, 0, 0], [0, 0, 0], [0, 0, 0], ...</td>\n",
       "    </tr>\n",
       "    <tr>\n",
       "      <th>1</th>\n",
       "      <td>Image2</td>\n",
       "      <td>0</td>\n",
       "      <td>C:/Users/Nisha/Desktop/Brain tumour detection ...</td>\n",
       "      <td>[[[0, 0, 0], [0, 0, 0], [0, 0, 0], [0, 0, 0], ...</td>\n",
       "    </tr>\n",
       "    <tr>\n",
       "      <th>2</th>\n",
       "      <td>Image3</td>\n",
       "      <td>1</td>\n",
       "      <td>C:/Users/Nisha/Desktop/Brain tumour detection ...</td>\n",
       "      <td>[[[0, 0, 0], [0, 0, 0], [0, 0, 0], [0, 0, 0], ...</td>\n",
       "    </tr>\n",
       "    <tr>\n",
       "      <th>3</th>\n",
       "      <td>Image4</td>\n",
       "      <td>1</td>\n",
       "      <td>C:/Users/Nisha/Desktop/Brain tumour detection ...</td>\n",
       "      <td>[[[0, 0, 0], [0, 0, 0], [0, 0, 0], [0, 0, 0], ...</td>\n",
       "    </tr>\n",
       "    <tr>\n",
       "      <th>4</th>\n",
       "      <td>Image5</td>\n",
       "      <td>0</td>\n",
       "      <td>C:/Users/Nisha/Desktop/Brain tumour detection ...</td>\n",
       "      <td>[[[0, 0, 0], [0, 0, 0], [0, 0, 0], [0, 0, 0], ...</td>\n",
       "    </tr>\n",
       "    <tr>\n",
       "      <th>5</th>\n",
       "      <td>Image6</td>\n",
       "      <td>0</td>\n",
       "      <td>C:/Users/Nisha/Desktop/Brain tumour detection ...</td>\n",
       "      <td>[[[0, 0, 0], [0, 0, 0], [0, 0, 0], [0, 0, 0], ...</td>\n",
       "    </tr>\n",
       "    <tr>\n",
       "      <th>6</th>\n",
       "      <td>Image7</td>\n",
       "      <td>0</td>\n",
       "      <td>C:/Users/Nisha/Desktop/Brain tumour detection ...</td>\n",
       "      <td>[[[0, 0, 0], [0, 0, 0], [0, 0, 0], [0, 0, 0], ...</td>\n",
       "    </tr>\n",
       "    <tr>\n",
       "      <th>7</th>\n",
       "      <td>Image8</td>\n",
       "      <td>0</td>\n",
       "      <td>C:/Users/Nisha/Desktop/Brain tumour detection ...</td>\n",
       "      <td>[[[0, 0, 0], [0, 0, 0], [0, 0, 0], [0, 0, 0], ...</td>\n",
       "    </tr>\n",
       "    <tr>\n",
       "      <th>8</th>\n",
       "      <td>Image9</td>\n",
       "      <td>0</td>\n",
       "      <td>C:/Users/Nisha/Desktop/Brain tumour detection ...</td>\n",
       "      <td>[[[0, 0, 0], [0, 0, 0], [0, 0, 0], [0, 0, 0], ...</td>\n",
       "    </tr>\n",
       "    <tr>\n",
       "      <th>9</th>\n",
       "      <td>Image10</td>\n",
       "      <td>1</td>\n",
       "      <td>C:/Users/Nisha/Desktop/Brain tumour detection ...</td>\n",
       "      <td>[[[0, 0, 0], [0, 0, 0], [0, 0, 0], [0, 0, 0], ...</td>\n",
       "    </tr>\n",
       "  </tbody>\n",
       "</table>\n",
       "</div>"
      ],
      "text/plain": [
       "     Image  Class                                              paths  \\\n",
       "0   Image1      0  C:/Users/Nisha/Desktop/Brain tumour detection ...   \n",
       "1   Image2      0  C:/Users/Nisha/Desktop/Brain tumour detection ...   \n",
       "2   Image3      1  C:/Users/Nisha/Desktop/Brain tumour detection ...   \n",
       "3   Image4      1  C:/Users/Nisha/Desktop/Brain tumour detection ...   \n",
       "4   Image5      0  C:/Users/Nisha/Desktop/Brain tumour detection ...   \n",
       "5   Image6      0  C:/Users/Nisha/Desktop/Brain tumour detection ...   \n",
       "6   Image7      0  C:/Users/Nisha/Desktop/Brain tumour detection ...   \n",
       "7   Image8      0  C:/Users/Nisha/Desktop/Brain tumour detection ...   \n",
       "8   Image9      0  C:/Users/Nisha/Desktop/Brain tumour detection ...   \n",
       "9  Image10      1  C:/Users/Nisha/Desktop/Brain tumour detection ...   \n",
       "\n",
       "                                              pixels  \n",
       "0  [[[0, 0, 0], [0, 0, 0], [0, 0, 0], [0, 0, 0], ...  \n",
       "1  [[[0, 0, 0], [0, 0, 0], [0, 0, 0], [0, 0, 0], ...  \n",
       "2  [[[0, 0, 0], [0, 0, 0], [0, 0, 0], [0, 0, 0], ...  \n",
       "3  [[[0, 0, 0], [0, 0, 0], [0, 0, 0], [0, 0, 0], ...  \n",
       "4  [[[0, 0, 0], [0, 0, 0], [0, 0, 0], [0, 0, 0], ...  \n",
       "5  [[[0, 0, 0], [0, 0, 0], [0, 0, 0], [0, 0, 0], ...  \n",
       "6  [[[0, 0, 0], [0, 0, 0], [0, 0, 0], [0, 0, 0], ...  \n",
       "7  [[[0, 0, 0], [0, 0, 0], [0, 0, 0], [0, 0, 0], ...  \n",
       "8  [[[0, 0, 0], [0, 0, 0], [0, 0, 0], [0, 0, 0], ...  \n",
       "9  [[[0, 0, 0], [0, 0, 0], [0, 0, 0], [0, 0, 0], ...  "
      ]
     },
     "execution_count": 25,
     "metadata": {},
     "output_type": "execute_result"
    }
   ],
   "source": [
    "dataset_df = pd.DataFrame()\n",
    "\n",
    "dataset_df[\"Image\"] = cortex_df[\"Image\"]\n",
    "dataset_df[\"Class\"] = cortex_df[\"Class\"]\n",
    "\n",
    "path_list = []\n",
    "\n",
    "for img_path in os.listdir(IMAGE_DATASET):\n",
    "    path_list.append( os.path.join(IMAGE_DATASET,img_path))\n",
    "path_dict = {os.path.splitext(os.path.basename(x))[0]: x for x in path_list}\n",
    "dataset_df[\"paths\"] = cortex_df[\"Image\"].map(path_dict.get)\n",
    "dataset_df[\"pixels\"] = dataset_df[\"paths\"].map(lambda x:np.asarray(open(x).resize((IMG_HEIGHT,IMG_WIDTH))))\n",
    "dataset_df.head(10)"
   ]
  },
  {
   "cell_type": "code",
   "execution_count": 26,
   "id": "6847782e",
   "metadata": {},
   "outputs": [
    {
     "data": {
      "text/html": [
       "<div>\n",
       "<style scoped>\n",
       "    .dataframe tbody tr th:only-of-type {\n",
       "        vertical-align: middle;\n",
       "    }\n",
       "\n",
       "    .dataframe tbody tr th {\n",
       "        vertical-align: top;\n",
       "    }\n",
       "\n",
       "    .dataframe thead th {\n",
       "        text-align: right;\n",
       "    }\n",
       "</style>\n",
       "<table border=\"1\" class=\"dataframe\">\n",
       "  <thead>\n",
       "    <tr style=\"text-align: right;\">\n",
       "      <th></th>\n",
       "      <th>Image</th>\n",
       "      <th>Class</th>\n",
       "      <th>paths</th>\n",
       "      <th>pixels</th>\n",
       "    </tr>\n",
       "  </thead>\n",
       "  <tbody>\n",
       "    <tr>\n",
       "      <th>3757</th>\n",
       "      <td>Image3758</td>\n",
       "      <td>0</td>\n",
       "      <td>C:/Users/Nisha/Desktop/Brain tumour detection ...</td>\n",
       "      <td>[[[0, 0, 0], [0, 0, 0], [0, 0, 0], [0, 0, 0], ...</td>\n",
       "    </tr>\n",
       "    <tr>\n",
       "      <th>3758</th>\n",
       "      <td>Image3759</td>\n",
       "      <td>0</td>\n",
       "      <td>C:/Users/Nisha/Desktop/Brain tumour detection ...</td>\n",
       "      <td>[[[0, 0, 0], [0, 0, 0], [0, 0, 0], [0, 0, 0], ...</td>\n",
       "    </tr>\n",
       "    <tr>\n",
       "      <th>3759</th>\n",
       "      <td>Image3760</td>\n",
       "      <td>0</td>\n",
       "      <td>C:/Users/Nisha/Desktop/Brain tumour detection ...</td>\n",
       "      <td>[[[0, 0, 0], [0, 0, 0], [0, 0, 0], [0, 0, 0], ...</td>\n",
       "    </tr>\n",
       "    <tr>\n",
       "      <th>3760</th>\n",
       "      <td>Image3761</td>\n",
       "      <td>0</td>\n",
       "      <td>C:/Users/Nisha/Desktop/Brain tumour detection ...</td>\n",
       "      <td>[[[0, 0, 0], [0, 0, 0], [0, 0, 0], [0, 0, 0], ...</td>\n",
       "    </tr>\n",
       "    <tr>\n",
       "      <th>3761</th>\n",
       "      <td>Image3762</td>\n",
       "      <td>0</td>\n",
       "      <td>C:/Users/Nisha/Desktop/Brain tumour detection ...</td>\n",
       "      <td>[[[0, 0, 0], [0, 0, 0], [0, 0, 0], [0, 0, 0], ...</td>\n",
       "    </tr>\n",
       "  </tbody>\n",
       "</table>\n",
       "</div>"
      ],
      "text/plain": [
       "          Image  Class                                              paths  \\\n",
       "3757  Image3758      0  C:/Users/Nisha/Desktop/Brain tumour detection ...   \n",
       "3758  Image3759      0  C:/Users/Nisha/Desktop/Brain tumour detection ...   \n",
       "3759  Image3760      0  C:/Users/Nisha/Desktop/Brain tumour detection ...   \n",
       "3760  Image3761      0  C:/Users/Nisha/Desktop/Brain tumour detection ...   \n",
       "3761  Image3762      0  C:/Users/Nisha/Desktop/Brain tumour detection ...   \n",
       "\n",
       "                                                 pixels  \n",
       "3757  [[[0, 0, 0], [0, 0, 0], [0, 0, 0], [0, 0, 0], ...  \n",
       "3758  [[[0, 0, 0], [0, 0, 0], [0, 0, 0], [0, 0, 0], ...  \n",
       "3759  [[[0, 0, 0], [0, 0, 0], [0, 0, 0], [0, 0, 0], ...  \n",
       "3760  [[[0, 0, 0], [0, 0, 0], [0, 0, 0], [0, 0, 0], ...  \n",
       "3761  [[[0, 0, 0], [0, 0, 0], [0, 0, 0], [0, 0, 0], ...  "
      ]
     },
     "execution_count": 26,
     "metadata": {},
     "output_type": "execute_result"
    }
   ],
   "source": [
    "dataset_df.tail()"
   ]
  },
  {
   "cell_type": "code",
   "execution_count": 27,
   "id": "66c5831c",
   "metadata": {},
   "outputs": [
    {
     "data": {
      "text/plain": [
       "['C:/Users/Nisha/Desktop/Brain tumour detection project/archive (5)/Brain Tumor\\\\Image1.jpg',\n",
       " 'C:/Users/Nisha/Desktop/Brain tumour detection project/archive (5)/Brain Tumor\\\\Image10.jpg',\n",
       " 'C:/Users/Nisha/Desktop/Brain tumour detection project/archive (5)/Brain Tumor\\\\Image100.jpg',\n",
       " 'C:/Users/Nisha/Desktop/Brain tumour detection project/archive (5)/Brain Tumor\\\\Image1000.jpg',\n",
       " 'C:/Users/Nisha/Desktop/Brain tumour detection project/archive (5)/Brain Tumor\\\\Image1001.jpg']"
      ]
     },
     "execution_count": 27,
     "metadata": {},
     "output_type": "execute_result"
    }
   ],
   "source": [
    "path_list[:5]"
   ]
  },
  {
   "cell_type": "code",
   "execution_count": 28,
   "id": "6998d679",
   "metadata": {},
   "outputs": [
    {
     "data": {
      "text/plain": [
       "0    C:/Users/Nisha/Desktop/Brain tumour detection ...\n",
       "1    C:/Users/Nisha/Desktop/Brain tumour detection ...\n",
       "2    C:/Users/Nisha/Desktop/Brain tumour detection ...\n",
       "3    C:/Users/Nisha/Desktop/Brain tumour detection ...\n",
       "4    C:/Users/Nisha/Desktop/Brain tumour detection ...\n",
       "Name: paths, dtype: object"
      ]
     },
     "execution_count": 28,
     "metadata": {},
     "output_type": "execute_result"
    }
   ],
   "source": [
    "dataset_df[\"paths\"].head(5)"
   ]
  },
  {
   "cell_type": "code",
   "execution_count": 29,
   "id": "b6fba242",
   "metadata": {},
   "outputs": [
    {
     "data": {
      "text/plain": [
       "3762"
      ]
     },
     "execution_count": 29,
     "metadata": {},
     "output_type": "execute_result"
    }
   ],
   "source": [
    "len(dataset_df)"
   ]
  },
  {
   "cell_type": "code",
   "execution_count": 30,
   "id": "bcf42f6f",
   "metadata": {},
   "outputs": [
    {
     "name": "stdout",
     "output_type": "stream",
     "text": [
      "(3762, 224, 224, 3)\n"
     ]
    }
   ],
   "source": [
    "image_list = []\n",
    "for i in range(len(dataset_df)):\n",
    "    brain_image = dataset_df[\"pixels\"][i].astype(np.float32)\n",
    "    brain_image /= 255\n",
    "    image_list.append(brain_image)\n",
    "X = np.array(image_list)\n",
    "print(X.shape)"
   ]
  },
  {
   "cell_type": "code",
   "execution_count": 31,
   "id": "22359e45",
   "metadata": {},
   "outputs": [
    {
     "data": {
      "text/plain": [
       "(3762,)"
      ]
     },
     "execution_count": 31,
     "metadata": {},
     "output_type": "execute_result"
    }
   ],
   "source": [
    "y = np.array(dataset_df.Class)\n",
    "y.shape"
   ]
  },
  {
   "cell_type": "code",
   "execution_count": 32,
   "id": "e94f14f5",
   "metadata": {},
   "outputs": [
    {
     "name": "stdout",
     "output_type": "stream",
     "text": [
      "[[[[0. 0. 0.]\n",
      "   [0. 0. 0.]\n",
      "   [0. 0. 0.]\n",
      "   ...\n",
      "   [0. 0. 0.]\n",
      "   [0. 0. 0.]\n",
      "   [0. 0. 0.]]\n",
      "\n",
      "  [[0. 0. 0.]\n",
      "   [0. 0. 0.]\n",
      "   [0. 0. 0.]\n",
      "   ...\n",
      "   [0. 0. 0.]\n",
      "   [0. 0. 0.]\n",
      "   [0. 0. 0.]]\n",
      "\n",
      "  [[0. 0. 0.]\n",
      "   [0. 0. 0.]\n",
      "   [0. 0. 0.]\n",
      "   ...\n",
      "   [0. 0. 0.]\n",
      "   [0. 0. 0.]\n",
      "   [0. 0. 0.]]\n",
      "\n",
      "  ...\n",
      "\n",
      "  [[0. 0. 0.]\n",
      "   [0. 0. 0.]\n",
      "   [0. 0. 0.]\n",
      "   ...\n",
      "   [0. 0. 0.]\n",
      "   [0. 0. 0.]\n",
      "   [0. 0. 0.]]\n",
      "\n",
      "  [[0. 0. 0.]\n",
      "   [0. 0. 0.]\n",
      "   [0. 0. 0.]\n",
      "   ...\n",
      "   [0. 0. 0.]\n",
      "   [0. 0. 0.]\n",
      "   [0. 0. 0.]]\n",
      "\n",
      "  [[0. 0. 0.]\n",
      "   [0. 0. 0.]\n",
      "   [0. 0. 0.]\n",
      "   ...\n",
      "   [0. 0. 0.]\n",
      "   [0. 0. 0.]\n",
      "   [0. 0. 0.]]]]\n"
     ]
    }
   ],
   "source": [
    "print(X[:1])"
   ]
  },
  {
   "cell_type": "code",
   "execution_count": 33,
   "id": "7ab163d4",
   "metadata": {},
   "outputs": [
    {
     "name": "stdout",
     "output_type": "stream",
     "text": [
      "[0 0 1 1 0]\n"
     ]
    }
   ],
   "source": [
    "print(y[:5]) "
   ]
  },
  {
   "cell_type": "code",
   "execution_count": 34,
   "id": "8c1756b1",
   "metadata": {},
   "outputs": [
    {
     "name": "stdout",
     "output_type": "stream",
     "text": [
      "The shape of the X_train : (3009, 224, 224, 3)\n",
      "The size of the X_train : 3009\n",
      "The shape of the X_test : (753, 224, 224, 3)\n",
      "The size of the X_test: 753\n"
     ]
    }
   ],
   "source": [
    "X_train, X_test, y_train, y_test = train_test_split(X, y, test_size=0.2)\n",
    "print('The shape of the X_train :'+' '+str(X_train.shape))\n",
    "print('The size of the X_train :'+' '+str(X_train.shape[0]))\n",
    "print('The shape of the X_test :'+' '+str(X_test.shape))\n",
    "print('The size of the X_test:'+' '+str(X_test.shape[0]))"
   ]
  },
  {
   "cell_type": "code",
   "execution_count": 36,
   "id": "acc6552a",
   "metadata": {},
   "outputs": [],
   "source": [
    "def model(input_shape):\n",
    "    \n",
    "#     res_conv = ResNet50(include_top=False, weights=\"imagenet\", input_tensor=None, input_shape=input_shape, pooling=None)\n",
    "    model = Sequential()\n",
    "    model.add(Input(shape=input_shape))\n",
    "    \n",
    "    model.add(Conv2D(16, kernel_size=3, strides=(2, 2), padding=\"same\", activation=\"relu\", kernel_initializer=\"he_normal\"))\n",
    "    model.add(Conv2D(16, kernel_size=3, strides=(2, 2), padding=\"same\", activation=\"relu\", kernel_initializer=\"he_normal\"))\n",
    "    model.add(MaxPooling2D(pool_size=(2, 2), data_format=\"channels_last\", padding='same'))\n",
    "            \n",
    "    model.add(Conv2D(32, kernel_size=3, strides=(2, 2), padding=\"same\", activation=\"relu\", kernel_initializer=\"he_normal\"))\n",
    "    model.add(Conv2D(32, kernel_size=3, strides=(2, 2), padding=\"same\", activation=\"relu\", kernel_initializer=\"he_normal\"))\n",
    "    model.add(MaxPooling2D(pool_size=(2, 2), data_format=\"channels_last\", padding='same'))\n",
    "    \n",
    "    model.add(Conv2D(64, kernel_size=3, strides=(2, 2), padding=\"same\", activation=\"relu\", kernel_initializer=\"he_normal\"))\n",
    "    model.add(Conv2D(64, kernel_size=3, strides=(2, 2), padding=\"same\", activation=\"relu\", kernel_initializer=\"he_normal\"))\n",
    "    model.add(MaxPooling2D(pool_size=(2, 2), data_format=\"channels_last\", padding='same'))\n",
    "    \n",
    "    \n",
    "    \n",
    "    model.add(Flatten())\n",
    "    model.add(Dense(256, activation=\"relu\"))\n",
    "    model.add(Dense(128, activation=\"relu\"))\n",
    "    \n",
    "    \n",
    "    model.add(Dense(1, activation=\"sigmoid\"))    # Never use sigmoid for binary classification\n",
    "    \n",
    "    return model\n"
   ]
  },
  {
   "cell_type": "code",
   "execution_count": 37,
   "id": "e0cd7e1b",
   "metadata": {},
   "outputs": [],
   "source": [
    "model = model(input_shape = (IMG_HEIGHT, IMG_WIDTH, 3))"
   ]
  },
  {
   "cell_type": "code",
   "execution_count": 38,
   "id": "6167a64a",
   "metadata": {},
   "outputs": [
    {
     "name": "stdout",
     "output_type": "stream",
     "text": [
      "Model: \"sequential\"\n",
      "_________________________________________________________________\n",
      " Layer (type)                Output Shape              Param #   \n",
      "=================================================================\n",
      " conv2d (Conv2D)             (None, 112, 112, 16)      448       \n",
      "                                                                 \n",
      " conv2d_1 (Conv2D)           (None, 56, 56, 16)        2320      \n",
      "                                                                 \n",
      " max_pooling2d (MaxPooling2D  (None, 28, 28, 16)       0         \n",
      " )                                                               \n",
      "                                                                 \n",
      " conv2d_2 (Conv2D)           (None, 14, 14, 32)        4640      \n",
      "                                                                 \n",
      " conv2d_3 (Conv2D)           (None, 7, 7, 32)          9248      \n",
      "                                                                 \n",
      " max_pooling2d_1 (MaxPooling  (None, 4, 4, 32)         0         \n",
      " 2D)                                                             \n",
      "                                                                 \n",
      " conv2d_4 (Conv2D)           (None, 2, 2, 64)          18496     \n",
      "                                                                 \n",
      " conv2d_5 (Conv2D)           (None, 1, 1, 64)          36928     \n",
      "                                                                 \n",
      " max_pooling2d_2 (MaxPooling  (None, 1, 1, 64)         0         \n",
      " 2D)                                                             \n",
      "                                                                 \n",
      " flatten (Flatten)           (None, 64)                0         \n",
      "                                                                 \n",
      " dense (Dense)               (None, 256)               16640     \n",
      "                                                                 \n",
      " dense_1 (Dense)             (None, 128)               32896     \n",
      "                                                                 \n",
      " dense_2 (Dense)             (None, 1)                 129       \n",
      "                                                                 \n",
      "=================================================================\n",
      "Total params: 121,745\n",
      "Trainable params: 121,745\n",
      "Non-trainable params: 0\n",
      "_________________________________________________________________\n"
     ]
    }
   ],
   "source": [
    "model.summary()"
   ]
  },
  {
   "cell_type": "code",
   "execution_count": 39,
   "id": "55166461",
   "metadata": {},
   "outputs": [],
   "source": [
    "optimizer = SGD(learning_rate=0.01)\n",
    "loss_fn = BinaryCrossentropy(from_logits=True)\n",
    "model.compile(optimizer=optimizer, loss=loss_fn, metrics=['accuracy'])"
   ]
  },
  {
   "cell_type": "code",
   "execution_count": 40,
   "id": "3d9bb23b",
   "metadata": {},
   "outputs": [
    {
     "name": "stdout",
     "output_type": "stream",
     "text": [
      "Epoch 1/50\n"
     ]
    },
    {
     "name": "stderr",
     "output_type": "stream",
     "text": [
      "C:\\Users\\Nisha\\anaconda3\\lib\\site-packages\\tensorflow\\python\\util\\dispatch.py:1082: UserWarning: \"`binary_crossentropy` received `from_logits=True`, but the `output` argument was produced by a sigmoid or softmax activation and thus does not represent logits. Was this intended?\"\n",
      "  return dispatch_target(*args, **kwargs)\n"
     ]
    },
    {
     "name": "stdout",
     "output_type": "stream",
     "text": [
      "301/301 [==============================] - 26s 54ms/step - loss: 0.6443 - accuracy: 0.6517\n",
      "Epoch 2/50\n",
      "301/301 [==============================] - 16s 52ms/step - loss: 0.5133 - accuracy: 0.7664\n",
      "Epoch 3/50\n",
      "301/301 [==============================] - 16s 51ms/step - loss: 0.4776 - accuracy: 0.7926\n",
      "Epoch 4/50\n",
      "301/301 [==============================] - 15s 51ms/step - loss: 0.4441 - accuracy: 0.8029\n",
      "Epoch 5/50\n",
      "301/301 [==============================] - 16s 52ms/step - loss: 0.4110 - accuracy: 0.8272\n",
      "Epoch 6/50\n",
      "301/301 [==============================] - 16s 52ms/step - loss: 0.3654 - accuracy: 0.8405\n",
      "Epoch 7/50\n",
      "301/301 [==============================] - 16s 53ms/step - loss: 0.3290 - accuracy: 0.8584\n",
      "Epoch 8/50\n",
      "301/301 [==============================] - 16s 54ms/step - loss: 0.3006 - accuracy: 0.8760\n",
      "Epoch 9/50\n",
      "301/301 [==============================] - 16s 52ms/step - loss: 0.2678 - accuracy: 0.8953\n",
      "Epoch 10/50\n",
      "301/301 [==============================] - 16s 53ms/step - loss: 0.2542 - accuracy: 0.8950\n",
      "Epoch 11/50\n",
      "301/301 [==============================] - 16s 52ms/step - loss: 0.2453 - accuracy: 0.8963\n",
      "Epoch 12/50\n",
      "301/301 [==============================] - 16s 52ms/step - loss: 0.2223 - accuracy: 0.9103\n",
      "Epoch 13/50\n",
      "301/301 [==============================] - 16s 52ms/step - loss: 0.2111 - accuracy: 0.9146\n",
      "Epoch 14/50\n",
      "301/301 [==============================] - 16s 53ms/step - loss: 0.1859 - accuracy: 0.9252\n",
      "Epoch 15/50\n",
      "301/301 [==============================] - 15s 51ms/step - loss: 0.1773 - accuracy: 0.9285\n",
      "Epoch 16/50\n",
      "301/301 [==============================] - 16s 52ms/step - loss: 0.1677 - accuracy: 0.9365\n",
      "Epoch 17/50\n",
      "301/301 [==============================] - 16s 53ms/step - loss: 0.1631 - accuracy: 0.9365\n",
      "Epoch 18/50\n",
      "301/301 [==============================] - 16s 53ms/step - loss: 0.1345 - accuracy: 0.9452\n",
      "Epoch 19/50\n",
      "301/301 [==============================] - 16s 53ms/step - loss: 0.1189 - accuracy: 0.9581\n",
      "Epoch 20/50\n",
      "301/301 [==============================] - 16s 53ms/step - loss: 0.1255 - accuracy: 0.9531\n",
      "Epoch 21/50\n",
      "301/301 [==============================] - 16s 54ms/step - loss: 0.1116 - accuracy: 0.9581\n",
      "Epoch 22/50\n",
      "301/301 [==============================] - 16s 53ms/step - loss: 0.0986 - accuracy: 0.9644\n",
      "Epoch 23/50\n",
      "301/301 [==============================] - 16s 53ms/step - loss: 0.1035 - accuracy: 0.9648\n",
      "Epoch 24/50\n",
      "301/301 [==============================] - 16s 53ms/step - loss: 0.0776 - accuracy: 0.9711\n",
      "Epoch 25/50\n",
      "301/301 [==============================] - 17s 57ms/step - loss: 0.0784 - accuracy: 0.9714\n",
      "Epoch 26/50\n",
      "301/301 [==============================] - 16s 53ms/step - loss: 0.0603 - accuracy: 0.9801\n",
      "Epoch 27/50\n",
      "301/301 [==============================] - 16s 54ms/step - loss: 0.0648 - accuracy: 0.9764\n",
      "Epoch 28/50\n",
      "301/301 [==============================] - 16s 54ms/step - loss: 0.0649 - accuracy: 0.9787\n",
      "Epoch 29/50\n",
      "301/301 [==============================] - 16s 54ms/step - loss: 0.0436 - accuracy: 0.9867\n",
      "Epoch 30/50\n",
      "301/301 [==============================] - 17s 55ms/step - loss: 0.0505 - accuracy: 0.9831\n",
      "Epoch 31/50\n",
      "301/301 [==============================] - 16s 55ms/step - loss: 0.0304 - accuracy: 0.9884\n",
      "Epoch 32/50\n",
      "301/301 [==============================] - 16s 54ms/step - loss: 0.0351 - accuracy: 0.9874\n",
      "Epoch 33/50\n",
      "301/301 [==============================] - 16s 54ms/step - loss: 0.0305 - accuracy: 0.9900\n",
      "Epoch 34/50\n",
      "301/301 [==============================] - 16s 54ms/step - loss: 0.0394 - accuracy: 0.9880\n",
      "Epoch 35/50\n",
      "301/301 [==============================] - 17s 55ms/step - loss: 0.0337 - accuracy: 0.9894\n",
      "Epoch 36/50\n",
      "301/301 [==============================] - 17s 55ms/step - loss: 0.0244 - accuracy: 0.9914\n",
      "Epoch 37/50\n",
      "301/301 [==============================] - 16s 54ms/step - loss: 0.0146 - accuracy: 0.9953\n",
      "Epoch 38/50\n",
      "301/301 [==============================] - 17s 57ms/step - loss: 0.0143 - accuracy: 0.9957\n",
      "Epoch 39/50\n",
      "301/301 [==============================] - 17s 55ms/step - loss: 0.0068 - accuracy: 0.9990\n",
      "Epoch 40/50\n",
      "301/301 [==============================] - 16s 52ms/step - loss: 0.0091 - accuracy: 0.9973\n",
      "Epoch 41/50\n",
      "301/301 [==============================] - 16s 54ms/step - loss: 0.0159 - accuracy: 0.9960\n",
      "Epoch 42/50\n",
      "301/301 [==============================] - 17s 55ms/step - loss: 0.0091 - accuracy: 0.9990\n",
      "Epoch 43/50\n",
      "301/301 [==============================] - 15s 51ms/step - loss: 0.0226 - accuracy: 0.9947\n",
      "Epoch 44/50\n",
      "301/301 [==============================] - 15s 50ms/step - loss: 0.0147 - accuracy: 0.9953\n",
      "Epoch 45/50\n",
      "301/301 [==============================] - 16s 53ms/step - loss: 0.0098 - accuracy: 0.9967\n",
      "Epoch 46/50\n",
      "301/301 [==============================] - 15s 51ms/step - loss: 0.0067 - accuracy: 0.9973\n",
      "Epoch 47/50\n",
      "301/301 [==============================] - 18s 58ms/step - loss: 0.0027 - accuracy: 0.9993\n",
      "Epoch 48/50\n",
      "301/301 [==============================] - 17s 57ms/step - loss: 0.0016 - accuracy: 0.9997\n",
      "Epoch 49/50\n",
      "301/301 [==============================] - 16s 55ms/step - loss: 0.0011 - accuracy: 0.9997\n",
      "Epoch 50/50\n",
      "301/301 [==============================] - 15s 51ms/step - loss: 0.0190 - accuracy: 0.9950\n"
     ]
    }
   ],
   "source": [
    "# Training the model\n",
    "history = model.fit(x=X_train, y=y_train, epochs=EPOCHS, batch_size=10)"
   ]
  },
  {
   "cell_type": "code",
   "execution_count": 41,
   "id": "41aacab6",
   "metadata": {},
   "outputs": [
    {
     "name": "stderr",
     "output_type": "stream",
     "text": [
      "WARNING:absl:Found untraced functions such as _jit_compiled_convolution_op, _jit_compiled_convolution_op, _jit_compiled_convolution_op, _jit_compiled_convolution_op, _jit_compiled_convolution_op while saving (showing 5 of 6). These functions will not be directly callable after loading.\n"
     ]
    },
    {
     "name": "stdout",
     "output_type": "stream",
     "text": [
      "INFO:tensorflow:Assets written to: BrainTumorv7\\assets\n"
     ]
    },
    {
     "name": "stderr",
     "output_type": "stream",
     "text": [
      "INFO:tensorflow:Assets written to: BrainTumorv7\\assets\n"
     ]
    }
   ],
   "source": [
    "model.save(\"BrainTumorv7\")"
   ]
  },
  {
   "cell_type": "code",
   "execution_count": 47,
   "id": "84f74729",
   "metadata": {},
   "outputs": [],
   "source": [
    "#!tar - zcvf BrainTumorv7.tar.gz /kaggle/working/BrainTumorv7"
   ]
  },
  {
   "cell_type": "code",
   "execution_count": 42,
   "id": "e6fe8eb5",
   "metadata": {},
   "outputs": [],
   "source": [
    "loss = history.history[\"loss\"]\n",
    "acc = history.history[\"accuracy\"]"
   ]
  },
  {
   "cell_type": "code",
   "execution_count": 43,
   "id": "e2424c7a",
   "metadata": {},
   "outputs": [
    {
     "data": {
      "text/plain": [
       "<matplotlib.legend.Legend at 0x2c0d677b910>"
      ]
     },
     "execution_count": 43,
     "metadata": {},
     "output_type": "execute_result"
    },
    {
     "data": {
      "image/png": "[encoded data removed]",
      "text/plain": [
       "<Figure size 432x288 with 1 Axes>"
      ]
     },
     "metadata": {
      "needs_background": "light"
     },
     "output_type": "display_data"
    }
   ],
   "source": [
    "epoch = np.arange(EPOCHS)\n",
    "plt.plot(epoch, loss)\n",
    "# plt.plot(epoch, val_loss)\n",
    "plt.xlabel('Epochs')\n",
    "plt.ylabel('Loss')\n",
    "plt.title('Training Loss')\n",
    "plt.legend(['train', 'val'])"
   ]
  },
  {
   "cell_type": "code",
   "execution_count": 44,
   "id": "683ad323",
   "metadata": {},
   "outputs": [
    {
     "data": {
      "image/png": "[encoded data removed]",
      "text/plain": [
       "<Figure size 432x288 with 1 Axes>"
      ]
     },
     "metadata": {
      "needs_background": "light"
     },
     "output_type": "display_data"
    }
   ],
   "source": [
    "epoch = np.arange(EPOCHS)\n",
    "plt.plot(epoch, acc)\n",
    "plt.xlabel('Epochs')\n",
    "plt.ylabel('Accuracy')\n",
    "plt.title('Training Accuracy');"
   ]
  },
  {
   "cell_type": "code",
   "execution_count": 45,
   "id": "44ae49f2",
   "metadata": {},
   "outputs": [
    {
     "name": "stderr",
     "output_type": "stream",
     "text": [
      "C:\\Users\\Nisha\\anaconda3\\lib\\site-packages\\tensorflow\\python\\util\\dispatch.py:1082: UserWarning: \"`binary_crossentropy` received `from_logits=True`, but the `output` argument was produced by a sigmoid or softmax activation and thus does not represent logits. Was this intended?\"\n",
      "  return dispatch_target(*args, **kwargs)\n"
     ]
    },
    {
     "name": "stdout",
     "output_type": "stream",
     "text": [
      "24/24 [==============================] - 2s 51ms/step - loss: 0.1641 - accuracy: 0.9668\n",
      "Test loss: 0.16405567526817322\n",
      "Test accuracy: 0.9667994976043701\n"
     ]
    }
   ],
   "source": [
    "eval_score = model.evaluate(X_test, y_test)\n",
    "print(\"Test loss:\", eval_score[0])\n",
    "print(\"Test accuracy:\", eval_score[1])"
   ]
  },
  {
   "cell_type": "code",
   "execution_count": 46,
   "id": "56a21f40",
   "metadata": {},
   "outputs": [
    {
     "name": "stdout",
     "output_type": "stream",
     "text": [
      "95/95 [==============================] - 5s 50ms/step - loss: 0.0061 - accuracy: 0.9983\n",
      "Train loss: 0.006064833141863346\n",
      "Train accuracy: 0.9983383417129517\n"
     ]
    }
   ],
   "source": [
    "eval_score = model.evaluate(X_train, y_train)\n",
    "print(\"Train loss:\", eval_score[0])\n",
    "print(\"Train accuracy:\", eval_score[1])"
   ]
  },
  {
   "cell_type": "code",
   "execution_count": null,
   "id": "75e1f46c",
   "metadata": {},
   "outputs": [],
   "source": []
  },
  {
   "cell_type": "code",
   "execution_count": null,
   "id": "8ffaa510",
   "metadata": {},
   "outputs": [],
   "source": []
  }
 ],
 "metadata": {
  "kernelspec": {
   "display_name": "Python 3 (ipykernel)",
   "language": "python",
   "name": "python3"
  },
  "language_info": {
   "codemirror_mode": {
    "name": "ipython",
    "version": 3
   },
   "file_extension": ".py",
   "mimetype": "text/x-python",
   "name": "python",
   "nbconvert_exporter": "python",
   "pygments_lexer": "ipython3",
   "version": "3.9.12"
  }
 },
 "nbformat": 4,
 "nbformat_minor": 5
}
